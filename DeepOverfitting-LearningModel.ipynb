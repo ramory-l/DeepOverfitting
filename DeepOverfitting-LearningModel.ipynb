{
  "cells":[
    {
      "cell_type":"code",
      "source":[
        "from sklearn.ensemble import RandomForestClassifier, BaggingClassifier, ExtraTreesClassifier\n",
        "from sklearn.model_selection import train_test_split, GridSearchCV, KFold\n",
        "from sklearn.metrics import f1_score, confusion_matrix, accuracy_score\n",
        "from sklearn.linear_model import LogisticRegression\n",
        "from sklearn.neighbors import KNeighborsClassifier\n",
        "from sklearn.preprocessing import StandardScaler\n",
        "from tqdm import tqdm\n",
        "import pickle\n",
        "import matplotlib.pyplot as plt\n",
        "import seaborn as sns\n",
        "import numpy as np\n",
        "from sklearn.base import clone"
      ],
      "execution_count":1,
      "outputs":[
        
      ],
      "metadata":{
        
      }
    },
    {
      "cell_type":"markdown",
      "source":[
        "# Обучение модели"
      ],
      "metadata":{
        
      }
    },
    {
      "cell_type":"markdown",
      "source":[
        "## Вспомогательные функции"
      ],
      "metadata":{
        
      }
    },
    {
      "cell_type":"code",
      "source":[
        "def compute_meta_feature(clf, X_train, X_test, y_train, cv):\n",
        "    \"\"\"\n",
        "    Computes meta-features using the classifier.\n",
        "    \n",
        "    :arg clf: scikit-learn classifier\n",
        "    :args X_train, y_train: training set\n",
        "    :arg X_test: testing set\n",
        "    :arg cv: cross-validation folding\n",
        "    \"\"\"\n",
        "    X_meta_train = np.zeros_like(y_train, dtype=np.float32)\n",
        "    for train_fold_index, predict_fold_index in cv.split(X_train):\n",
        "        X_fold_train, X_fold_predict = X_train[train_fold_index], X_train[predict_fold_index]\n",
        "        y_fold_train = y_train[train_fold_index]\n",
        "        \n",
        "        folded_clf = clone(clf)\n",
        "        folded_clf.fit(X_fold_train, y_fold_train)\n",
        "        X_meta_train[predict_fold_index] = folded_clf.predict_proba(X_fold_predict)[:, 1]\n",
        "    \n",
        "    meta_clf = clone(clf)\n",
        "    meta_clf.fit(X_train, y_train)\n",
        "    \n",
        "    X_meta_test = meta_clf.predict_proba(X_test)[:, 1]\n",
        "    \n",
        "    return X_meta_train, X_meta_test"
      ],
      "execution_count":2,
      "outputs":[
        
      ],
      "metadata":{
        
      }
    },
    {
      "cell_type":"code",
      "source":[
        "def generate_meta_features(classifiers, X_train, X_test, y_train, cv):\n",
        "    \"\"\"\n",
        "    Generates metafeatures using a list of classifiers.\n",
        "    \n",
        "    :arg classifiers: list of scikit-learn classifiers\n",
        "    :args X_train, y_train: training set\n",
        "    :arg X_test: testing set\n",
        "    :arg cv: cross-validation folding\n",
        "    \"\"\"\n",
        "    features = [\n",
        "        compute_meta_feature(clf, X_train, X_test, y_train, cv)\n",
        "        for clf in tqdm(classifiers)\n",
        "    ]\n",
        "    \n",
        "    stacked_features_train = np.vstack([\n",
        "        features_train for features_train, features_test in features\n",
        "    ]).T\n",
        "\n",
        "    stacked_features_test = np.vstack([\n",
        "        features_test for features_train, features_test in features\n",
        "    ]).T\n",
        "    \n",
        "    return stacked_features_train, stacked_features_test"
      ],
      "execution_count":3,
      "outputs":[
        
      ],
      "metadata":{
        
      }
    },
    {
      "cell_type":"markdown",
      "source":[
        "## Загружаем данные из pickle"
      ],
      "metadata":{
        
      }
    },
    {
      "cell_type":"code",
      "source":[
        "model_file = open('processed_data.pkl', 'rb')\n",
        "data = pickle.load(model_file)\n",
        "model_file.close()\n",
        "data"
      ],
      "execution_count":4,
      "outputs":[
        {
          "data":{
            "text\/html":[
              "<div>\n",
              "<style scoped>\n",
              "    .dataframe tbody tr th:only-of-type {\n",
              "        vertical-align: middle;\n",
              "    }\n",
              "\n",
              "    .dataframe tbody tr th {\n",
              "        vertical-align: top;\n",
              "    }\n",
              "\n",
              "    .dataframe thead th {\n",
              "        text-align: right;\n",
              "    }\n",
              "<\/style>\n",
              "<table border=\"1\" class=\"dataframe\">\n",
              "  <thead>\n",
              "    <tr style=\"text-align: right;\">\n",
              "      <th><\/th>\n",
              "      <th>duration<\/th>\n",
              "      <th>rounds<\/th>\n",
              "      <th>f1_age<\/th>\n",
              "      <th>f2_age<\/th>\n",
              "      <th>f1_isHomeCity<\/th>\n",
              "      <th>f1_isHomeCountry<\/th>\n",
              "      <th>f1_isHomeTimezone<\/th>\n",
              "      <th>f2_isHomeCity<\/th>\n",
              "      <th>f2_isHomeCountry<\/th>\n",
              "      <th>f2_isHomeTimezone<\/th>\n",
              "      <th>...<\/th>\n",
              "      <th>hitsTotal_difference<\/th>\n",
              "      <th>takedownTotal_difference<\/th>\n",
              "      <th>submissionAttempts_difference<\/th>\n",
              "      <th>takeovers_difference<\/th>\n",
              "      <th>hitsBodyTotal_difference<\/th>\n",
              "      <th>hitsLegsTotal_difference<\/th>\n",
              "      <th>weight_difference<\/th>\n",
              "      <th>height_difference<\/th>\n",
              "      <th>legSwing_difference<\/th>\n",
              "      <th>eventDate<\/th>\n",
              "    <\/tr>\n",
              "    <tr>\n",
              "      <th>id<\/th>\n",
              "      <th><\/th>\n",
              "      <th><\/th>\n",
              "      <th><\/th>\n",
              "      <th><\/th>\n",
              "      <th><\/th>\n",
              "      <th><\/th>\n",
              "      <th><\/th>\n",
              "      <th><\/th>\n",
              "      <th><\/th>\n",
              "      <th><\/th>\n",
              "      <th><\/th>\n",
              "      <th><\/th>\n",
              "      <th><\/th>\n",
              "      <th><\/th>\n",
              "      <th><\/th>\n",
              "      <th><\/th>\n",
              "      <th><\/th>\n",
              "      <th><\/th>\n",
              "      <th><\/th>\n",
              "      <th><\/th>\n",
              "      <th><\/th>\n",
              "    <\/tr>\n",
              "  <\/thead>\n",
              "  <tbody>\n",
              "    <tr>\n",
              "      <th>5201<\/th>\n",
              "      <td>104.0<\/td>\n",
              "      <td>1.0<\/td>\n",
              "      <td>27.0<\/td>\n",
              "      <td>34.0<\/td>\n",
              "      <td>0<\/td>\n",
              "      <td>0<\/td>\n",
              "      <td>0<\/td>\n",
              "      <td>0<\/td>\n",
              "      <td>0<\/td>\n",
              "      <td>0<\/td>\n",
              "      <td>...<\/td>\n",
              "      <td>4.0<\/td>\n",
              "      <td>3.0<\/td>\n",
              "      <td>1.0<\/td>\n",
              "      <td>0.0<\/td>\n",
              "      <td>0.0<\/td>\n",
              "      <td>1.0<\/td>\n",
              "      <td>-18.6<\/td>\n",
              "      <td>-10.2<\/td>\n",
              "      <td>0.0<\/td>\n",
              "      <td>1993-11-12 00:00:00<\/td>\n",
              "    <\/tr>\n",
              "    <tr>\n",
              "      <th>5202<\/th>\n",
              "      <td>52.0<\/td>\n",
              "      <td>1.0<\/td>\n",
              "      <td>24.0<\/td>\n",
              "      <td>23.0<\/td>\n",
              "      <td>0<\/td>\n",
              "      <td>1<\/td>\n",
              "      <td>0<\/td>\n",
              "      <td>0<\/td>\n",
              "      <td>1<\/td>\n",
              "      <td>0<\/td>\n",
              "      <td>...<\/td>\n",
              "      <td>2.0<\/td>\n",
              "      <td>2.0<\/td>\n",
              "      <td>1.0<\/td>\n",
              "      <td>0.0<\/td>\n",
              "      <td>0.0<\/td>\n",
              "      <td>0.0<\/td>\n",
              "      <td>2.3<\/td>\n",
              "      <td>-7.6<\/td>\n",
              "      <td>0.0<\/td>\n",
              "      <td>1993-11-12 00:00:00<\/td>\n",
              "    <\/tr>\n",
              "    <tr>\n",
              "      <th>5203<\/th>\n",
              "      <td>59.0<\/td>\n",
              "      <td>1.0<\/td>\n",
              "      <td>23.0<\/td>\n",
              "      <td>34.0<\/td>\n",
              "      <td>0<\/td>\n",
              "      <td>1<\/td>\n",
              "      <td>0<\/td>\n",
              "      <td>0<\/td>\n",
              "      <td>0<\/td>\n",
              "      <td>0<\/td>\n",
              "      <td>...<\/td>\n",
              "      <td>-14.0<\/td>\n",
              "      <td>0.0<\/td>\n",
              "      <td>0.0<\/td>\n",
              "      <td>0.0<\/td>\n",
              "      <td>0.0<\/td>\n",
              "      <td>-2.0<\/td>\n",
              "      <td>26.8<\/td>\n",
              "      <td>-2.5<\/td>\n",
              "      <td>0.0<\/td>\n",
              "      <td>1993-11-12 00:00:00<\/td>\n",
              "    <\/tr>\n",
              "    <tr>\n",
              "      <th>5204<\/th>\n",
              "      <td>57.0<\/td>\n",
              "      <td>1.0<\/td>\n",
              "      <td>29.0<\/td>\n",
              "      <td>27.0<\/td>\n",
              "      <td>0<\/td>\n",
              "      <td>1<\/td>\n",
              "      <td>0<\/td>\n",
              "      <td>0<\/td>\n",
              "      <td>0<\/td>\n",
              "      <td>0<\/td>\n",
              "      <td>...<\/td>\n",
              "      <td>-12.0<\/td>\n",
              "      <td>0.0<\/td>\n",
              "      <td>-1.0<\/td>\n",
              "      <td>-1.0<\/td>\n",
              "      <td>0.0<\/td>\n",
              "      <td>0.0<\/td>\n",
              "      <td>13.6<\/td>\n",
              "      <td>0.0<\/td>\n",
              "      <td>0.0<\/td>\n",
              "      <td>1993-11-12 00:00:00<\/td>\n",
              "    <\/tr>\n",
              "    <tr>\n",
              "      <th>5205<\/th>\n",
              "      <td>138.0<\/td>\n",
              "      <td>1.0<\/td>\n",
              "      <td>27.0<\/td>\n",
              "      <td>30.0<\/td>\n",
              "      <td>0<\/td>\n",
              "      <td>0<\/td>\n",
              "      <td>0<\/td>\n",
              "      <td>0<\/td>\n",
              "      <td>1<\/td>\n",
              "      <td>0<\/td>\n",
              "      <td>...<\/td>\n",
              "      <td>7.0<\/td>\n",
              "      <td>1.0<\/td>\n",
              "      <td>0.0<\/td>\n",
              "      <td>0.0<\/td>\n",
              "      <td>0.0<\/td>\n",
              "      <td>2.0<\/td>\n",
              "      <td>-9.5<\/td>\n",
              "      <td>0.0<\/td>\n",
              "      <td>0.0<\/td>\n",
              "      <td>1993-11-12 00:00:00<\/td>\n",
              "    <\/tr>\n",
              "    <tr>\n",
              "      <th>...<\/th>\n",
              "      <td>...<\/td>\n",
              "      <td>...<\/td>\n",
              "      <td>...<\/td>\n",
              "      <td>...<\/td>\n",
              "      <td>...<\/td>\n",
              "      <td>...<\/td>\n",
              "      <td>...<\/td>\n",
              "      <td>...<\/td>\n",
              "      <td>...<\/td>\n",
              "      <td>...<\/td>\n",
              "      <td>...<\/td>\n",
              "      <td>...<\/td>\n",
              "      <td>...<\/td>\n",
              "      <td>...<\/td>\n",
              "      <td>...<\/td>\n",
              "      <td>...<\/td>\n",
              "      <td>...<\/td>\n",
              "      <td>...<\/td>\n",
              "      <td>...<\/td>\n",
              "      <td>...<\/td>\n",
              "      <td>...<\/td>\n",
              "    <\/tr>\n",
              "    <tr>\n",
              "      <th>5310<\/th>\n",
              "      <td>260.0<\/td>\n",
              "      <td>1.0<\/td>\n",
              "      <td>25.0<\/td>\n",
              "      <td>25.0<\/td>\n",
              "      <td>0<\/td>\n",
              "      <td>1<\/td>\n",
              "      <td>0<\/td>\n",
              "      <td>0<\/td>\n",
              "      <td>1<\/td>\n",
              "      <td>1<\/td>\n",
              "      <td>...<\/td>\n",
              "      <td>19.0<\/td>\n",
              "      <td>1.0<\/td>\n",
              "      <td>1.0<\/td>\n",
              "      <td>0.0<\/td>\n",
              "      <td>0.0<\/td>\n",
              "      <td>0.0<\/td>\n",
              "      <td>0.0<\/td>\n",
              "      <td>7.6<\/td>\n",
              "      <td>5.1<\/td>\n",
              "      <td>2019-12-08 05:00:00<\/td>\n",
              "    <\/tr>\n",
              "    <tr>\n",
              "      <th>6338<\/th>\n",
              "      <td>300.0<\/td>\n",
              "      <td>3.0<\/td>\n",
              "      <td>30.0<\/td>\n",
              "      <td>22.0<\/td>\n",
              "      <td>0<\/td>\n",
              "      <td>1<\/td>\n",
              "      <td>0<\/td>\n",
              "      <td>0<\/td>\n",
              "      <td>0<\/td>\n",
              "      <td>0<\/td>\n",
              "      <td>...<\/td>\n",
              "      <td>71.0<\/td>\n",
              "      <td>1.0<\/td>\n",
              "      <td>0.0<\/td>\n",
              "      <td>0.0<\/td>\n",
              "      <td>1.0<\/td>\n",
              "      <td>-2.0<\/td>\n",
              "      <td>0.0<\/td>\n",
              "      <td>-5.1<\/td>\n",
              "      <td>-7.6<\/td>\n",
              "      <td>2019-12-08 05:00:00<\/td>\n",
              "    <\/tr>\n",
              "    <tr>\n",
              "      <th>5311<\/th>\n",
              "      <td>300.0<\/td>\n",
              "      <td>5.0<\/td>\n",
              "      <td>31.0<\/td>\n",
              "      <td>35.0<\/td>\n",
              "      <td>0<\/td>\n",
              "      <td>0<\/td>\n",
              "      <td>0<\/td>\n",
              "      <td>0<\/td>\n",
              "      <td>0<\/td>\n",
              "      <td>0<\/td>\n",
              "      <td>...<\/td>\n",
              "      <td>6.0<\/td>\n",
              "      <td>2.0<\/td>\n",
              "      <td>-1.0<\/td>\n",
              "      <td>0.0<\/td>\n",
              "      <td>2.0<\/td>\n",
              "      <td>1.0<\/td>\n",
              "      <td>0.0<\/td>\n",
              "      <td>-2.5<\/td>\n",
              "      <td>0.0<\/td>\n",
              "      <td>2019-12-14 00:00:00<\/td>\n",
              "    <\/tr>\n",
              "    <tr>\n",
              "      <th>5312<\/th>\n",
              "      <td>300.0<\/td>\n",
              "      <td>3.0<\/td>\n",
              "      <td>33.0<\/td>\n",
              "      <td>33.0<\/td>\n",
              "      <td>0<\/td>\n",
              "      <td>0<\/td>\n",
              "      <td>0<\/td>\n",
              "      <td>0<\/td>\n",
              "      <td>1<\/td>\n",
              "      <td>0<\/td>\n",
              "      <td>...<\/td>\n",
              "      <td>1.0<\/td>\n",
              "      <td>0.0<\/td>\n",
              "      <td>0.0<\/td>\n",
              "      <td>0.0<\/td>\n",
              "      <td>-9.0<\/td>\n",
              "      <td>1.0<\/td>\n",
              "      <td>0.0<\/td>\n",
              "      <td>-5.1<\/td>\n",
              "      <td>5.2<\/td>\n",
              "      <td>2019-12-14 00:00:00<\/td>\n",
              "    <\/tr>\n",
              "    <tr>\n",
              "      <th>6340<\/th>\n",
              "      <td>295.0<\/td>\n",
              "      <td>2.0<\/td>\n",
              "      <td>36.0<\/td>\n",
              "      <td>38.0<\/td>\n",
              "      <td>0<\/td>\n",
              "      <td>1<\/td>\n",
              "      <td>0<\/td>\n",
              "      <td>0<\/td>\n",
              "      <td>1<\/td>\n",
              "      <td>0<\/td>\n",
              "      <td>...<\/td>\n",
              "      <td>-12.0<\/td>\n",
              "      <td>-2.0<\/td>\n",
              "      <td>0.0<\/td>\n",
              "      <td>0.0<\/td>\n",
              "      <td>3.0<\/td>\n",
              "      <td>-1.0<\/td>\n",
              "      <td>0.0<\/td>\n",
              "      <td>5.1<\/td>\n",
              "      <td>5.1<\/td>\n",
              "      <td>2019-12-14 00:00:00<\/td>\n",
              "    <\/tr>\n",
              "  <\/tbody>\n",
              "<\/table>\n",
              "<p>6257 rows × 27 columns<\/p>\n",
              "<\/div>"
            ]
          },
          "metadata":{
            
          },
          "output_type":"display_data"
        }
      ],
      "metadata":{
        
      }
    },
    {
      "cell_type":"code",
      "source":[
        "data.info()"
      ],
      "execution_count":5,
      "outputs":[
        {
          "name":"stdout",
          "text":[
            "<class 'pandas.core.frame.DataFrame'>\n",
            "Int64Index: 6257 entries, 5201 to 6340\n",
            "Data columns (total 27 columns):\n",
            " #   Column                          Non-Null Count  Dtype         \n",
            "---  ------                          --------------  -----         \n",
            " 0   duration                        6257 non-null   float64       \n",
            " 1   rounds                          6257 non-null   float64       \n",
            " 2   f1_age                          6257 non-null   float64       \n",
            " 3   f2_age                          6257 non-null   float64       \n",
            " 4   f1_isHomeCity                   6257 non-null   int64         \n",
            " 5   f1_isHomeCountry                6257 non-null   int64         \n",
            " 6   f1_isHomeTimezone               6257 non-null   int64         \n",
            " 7   f2_isHomeCity                   6257 non-null   int64         \n",
            " 8   f2_isHomeCountry                6257 non-null   int64         \n",
            " 9   f2_isHomeTimezone               6257 non-null   int64         \n",
            " 10  winner                          6257 non-null   bool          \n",
            " 11  Knockdown_ratio_difference      6257 non-null   float64       \n",
            " 12  wins_by_knockout_difference     6257 non-null   float64       \n",
            " 13  count_of_fights_difference      6257 non-null   float64       \n",
            " 14  striking_accuracy_difference    6257 non-null   float64       \n",
            " 15  wins_by_submissions_difference  6257 non-null   float64       \n",
            " 16  grappling_accuracy_difference   6257 non-null   float64       \n",
            " 17  hitsTotal_difference            6257 non-null   float64       \n",
            " 18  takedownTotal_difference        6257 non-null   float64       \n",
            " 19  submissionAttempts_difference   6257 non-null   float64       \n",
            " 20  takeovers_difference            6257 non-null   float64       \n",
            " 21  hitsBodyTotal_difference        6257 non-null   float64       \n",
            " 22  hitsLegsTotal_difference        6257 non-null   float64       \n",
            " 23  weight_difference               6257 non-null   float64       \n",
            " 24  height_difference               6257 non-null   float64       \n",
            " 25  legSwing_difference             6257 non-null   float64       \n",
            " 26  eventDate                       6257 non-null   datetime64[ns]\n",
            "dtypes: bool(1), datetime64[ns](1), float64(19), int64(6)\n",
            "memory usage: 1.3 MB\n"
          ],
          "output_type":"stream"
        }
      ],
      "metadata":{
        
      }
    },
    {
      "cell_type":"markdown",
      "source":[
        "## Выбираем независимые и целевую переменные"
      ],
      "metadata":{
        
      }
    },
    {
      "cell_type":"markdown",
      "source":[
        "### Выбираем период для обучающей и тестовой выборки "
      ],
      "metadata":{
        
      }
    },
    {
      "cell_type":"code",
      "source":[
        "def X_y_split(df , feature_names, target_column, basline_column):\n",
        "    \"\"\"\n",
        "  Функция разделяет выборку на трейн , тест и выделяет бейслайн\n",
        "  На входе pandas dataframe и перечень фичей для обучения\/ целевая переменная\/ бейслайн фича,\n",
        "  На выходе train\/test X, Y, baseline dataframes\n",
        "  \"\"\"\n",
        "    X = df[feature_names]\n",
        "    Y= df[target_column]\n",
        "    Y_baseline = df[basline_column]\n",
        "    X_train, X_test, Y_train, Y_test = X.iloc[0:-100,:], X.iloc[-100:], Y.iloc[0:-100], Y.iloc[-100:] #В качестве тестового множества берем последние 100 дней\n",
        "    Y_train_baseline , Y_test_baseline = Y_baseline[0:-100],  Y_baseline[-100:]\n",
        "    return X, Y, Y_baseline, X_train, X_test, Y_train, Y_test,  Y_train_baseline , Y_test_baseline"
      ],
      "execution_count":6,
      "outputs":[
        
      ],
      "metadata":{
        
      }
    },
    {
      "cell_type":"code",
      "source":[
        "X = data.drop(columns=['winner'])\n",
        "y = data[['winner', 'eventDate']]\n",
        "X_train = X[X['eventDate'].dt.year < 2018].drop(columns=['eventDate'])\n",
        "X_test = X[X['eventDate'].dt.year >= 2018].drop(columns=['eventDate'])\n",
        "y_with_date_to_train = y[y['eventDate'].dt.year < 2018]\n",
        "y_with_date_to_test = y[y['eventDate'].dt.year >= 2018]"
      ],
      "execution_count":7,
      "outputs":[
        
      ],
      "metadata":{
        
      }
    },
    {
      "cell_type":"code",
      "source":[
        "y_train = y_with_date_to_train['winner']\n",
        "y_test = y_with_date_to_test['winner']"
      ],
      "execution_count":8,
      "outputs":[
        
      ],
      "metadata":{
        
      }
    },
    {
      "cell_type":"markdown",
      "source":[
        "## Пробуем случайный лес"
      ],
      "metadata":{
        
      }
    },
    {
      "cell_type":"code",
      "source":[
        "rfc = RandomForestClassifier()\n",
        "\n",
        "rfc.fit(X_train, y_train.values)\n",
        "\n",
        "y_pred_rfc = rfc.predict(X_test)"
      ],
      "execution_count":9,
      "outputs":[
        
      ],
      "metadata":{
        
      }
    },
    {
      "cell_type":"markdown",
      "source":[
        "### F1_score метрика"
      ],
      "metadata":{
        
      }
    },
    {
      "cell_type":"code",
      "source":[
        "f1_score(y_test, y_pred_rfc)"
      ],
      "execution_count":10,
      "outputs":[
        {
          "data":{
            "text\/plain":[
              "0.7773584905660378"
            ]
          },
          "metadata":{
            
          },
          "output_type":"display_data"
        }
      ],
      "metadata":{
        
      }
    },
    {
      "cell_type":"markdown",
      "source":[
        "### Матрица ошибок и метрика accuracy"
      ],
      "metadata":{
        
      }
    },
    {
      "cell_type":"code",
      "source":[
        "plt.figure(figsize=(10,7))\n",
        "cmd_forest = confusion_matrix(y_test, y_pred_rfc)\n",
        "sns.heatmap(cmd_forest ,annot=True , fmt = 'd')\n",
        "plt.xlabel('Predicted')\n",
        "plt.ylabel('Truth')\n",
        "print('Accuracy RandomForest: ', rfc.score(X_test, y_test))"
      ],
      "execution_count":11,
      "outputs":[
        {
          "name":"stdout",
          "text":[
            "Accuracy RandomForest:  0.7389380530973452\n"
          ],
          "output_type":"stream"
        },
        {
          "data":{
            "image\/png":"[encoded data removed]"
          },
          "metadata":{
            "image\/png":{
              "width":0,
              "height":0
            }
          },
          "output_type":"display_data"
        }
      ],
      "metadata":{
        
      }
    },
    {
      "cell_type":"markdown",
      "source":[
        "## Стекинг"
      ],
      "metadata":{
        
      }
    },
    {
      "cell_type":"code",
      "source":[
        "cv = KFold(n_splits=10, shuffle=True, random_state=42)\n",
        "\n",
        "stacked_features_train, stacked_features_test = generate_meta_features([\n",
        "    KNeighborsClassifier(n_jobs=-1),\n",
        "    ExtraTreesClassifier(n_estimators=300, n_jobs=-1),\n",
        "], X_train.values, X_test.values, y_train.values, cv)"
      ],
      "execution_count":12,
      "outputs":[
        {
          "name":"stderr",
          "text":[
            "\r  0%|          | 0\/2 [00:00<?, ?it\/s]\r 50%|█████     | 1\/2 [00:02<00:02,  2.35s\/it]\r100%|██████████| 2\/2 [00:26<00:00, 15.40s\/it]\r100%|██████████| 2\/2 [00:26<00:00, 13.44s\/it]\n"
          ],
          "output_type":"stream"
        }
      ],
      "metadata":{
        
      }
    },
    {
      "cell_type":"code",
      "source":[
        "clf = LogisticRegression(penalty='none', solver='lbfgs')\n",
        "clf.fit(stacked_features_train, y_train)\n",
        "y_pred_clf = clf.predict(stacked_features_test)"
      ],
      "execution_count":13,
      "outputs":[
        
      ],
      "metadata":{
        
      }
    },
    {
      "cell_type":"code",
      "source":[
        "f1_score(y_test, y_pred_clf)"
      ],
      "execution_count":14,
      "outputs":[
        {
          "data":{
            "text\/plain":[
              "0.7702205882352942"
            ]
          },
          "metadata":{
            
          },
          "output_type":"display_data"
        }
      ],
      "metadata":{
        
      }
    },
    {
      "cell_type":"code",
      "source":[
        "accuracy_score(y_test, y_pred_clf)"
      ],
      "execution_count":15,
      "outputs":[
        {
          "data":{
            "text\/plain":[
              "0.7234513274336283"
            ]
          },
          "metadata":{
            
          },
          "output_type":"display_data"
        }
      ],
      "metadata":{
        
      }
    },
    {
      "cell_type":"code",
      "source":[
        "stacked_features_train, stacked_features_test = generate_meta_features([\n",
        "    KNeighborsClassifier(n_jobs=-1),\n",
        "    RandomForestClassifier(n_estimators=300, n_jobs=-1),\n",
        "], X_train.values, X_test.values, y_train.values, cv)"
      ],
      "execution_count":16,
      "outputs":[
        {
          "name":"stderr",
          "text":[
            "\r  0%|          | 0\/2 [00:00<?, ?it\/s]\r 50%|█████     | 1\/2 [00:01<00:01,  1.95s\/it]\r100%|██████████| 2\/2 [00:27<00:00, 15.71s\/it]\r100%|██████████| 2\/2 [00:27<00:00, 13.64s\/it]\n"
          ],
          "output_type":"stream"
        }
      ],
      "metadata":{
        
      }
    },
    {
      "cell_type":"code",
      "source":[
        "clf = LogisticRegression(penalty='none', solver='lbfgs')\n",
        "clf.fit(stacked_features_train, y_train)\n",
        "y_pred_clf = clf.predict(stacked_features_test)"
      ],
      "execution_count":17,
      "outputs":[
        
      ],
      "metadata":{
        
      }
    },
    {
      "cell_type":"code",
      "source":[
        "f1_score(y_test, y_pred_clf)"
      ],
      "execution_count":18,
      "outputs":[
        {
          "data":{
            "text\/plain":[
              "0.779467680608365"
            ]
          },
          "metadata":{
            
          },
          "output_type":"display_data"
        }
      ],
      "metadata":{
        
      }
    },
    {
      "cell_type":"code",
      "source":[
        "accuracy_score(y_test, y_pred_clf)"
      ],
      "execution_count":19,
      "outputs":[
        {
          "data":{
            "text\/plain":[
              "0.7433628318584071"
            ]
          },
          "metadata":{
            
          },
          "output_type":"display_data"
        }
      ],
      "metadata":{
        
      }
    },
    {
      "cell_type":"markdown",
      "source":[
        "### Стекинг с нормализацией данных"
      ],
      "metadata":{
        
      }
    },
    {
      "cell_type":"code",
      "source":[
        "scaler = StandardScaler()\n",
        "cover_X_train = scaler.fit_transform(X_train)\n",
        "cover_X_test = scaler.transform(X_test)"
      ],
      "execution_count":20,
      "outputs":[
        
      ],
      "metadata":{
        
      }
    },
    {
      "cell_type":"code",
      "source":[
        "cv = KFold(n_splits=10, shuffle=True, random_state=42)\n",
        "\n",
        "stacked_features_train, stacked_features_test = generate_meta_features([\n",
        "    KNeighborsClassifier(n_jobs=-1),\n",
        "    ExtraTreesClassifier(n_estimators=300, n_jobs=-1),\n",
        "], cover_X_train, cover_X_test, y_train.values, cv)"
      ],
      "execution_count":21,
      "outputs":[
        {
          "name":"stderr",
          "text":[
            "\r  0%|          | 0\/2 [00:00<?, ?it\/s]\r 50%|█████     | 1\/2 [00:01<00:01,  1.74s\/it]\r100%|██████████| 2\/2 [01:02<00:00, 36.61s\/it]\r100%|██████████| 2\/2 [01:02<00:00, 31.38s\/it]\n"
          ],
          "output_type":"stream"
        }
      ],
      "metadata":{
        
      }
    },
    {
      "cell_type":"code",
      "source":[
        "clf = LogisticRegression(penalty='none', solver='lbfgs')\n",
        "clf.fit(stacked_features_train, y_train)\n",
        "y_pred_clf = clf.predict(stacked_features_test)"
      ],
      "execution_count":22,
      "outputs":[
        
      ],
      "metadata":{
        
      }
    },
    {
      "cell_type":"code",
      "source":[
        "f1_score(y_test, y_pred_clf)"
      ],
      "execution_count":23,
      "outputs":[
        {
          "data":{
            "text\/plain":[
              "0.7723502304147466"
            ]
          },
          "metadata":{
            
          },
          "output_type":"display_data"
        }
      ],
      "metadata":{
        
      }
    },
    {
      "cell_type":"code",
      "source":[
        "accuracy_score(y_test, y_pred_clf)"
      ],
      "execution_count":24,
      "outputs":[
        {
          "data":{
            "text\/plain":[
              "0.7267699115044248"
            ]
          },
          "metadata":{
            
          },
          "output_type":"display_data"
        }
      ],
      "metadata":{
        
      }
    },
    {
      "cell_type":"markdown",
      "source":[
        "## Пробуем XGboost classifier"
      ],
      "metadata":{
        
      }
    },
    {
      "cell_type":"code",
      "source":[
        "import xgboost as xgb"
      ],
      "execution_count":25,
      "outputs":[
        
      ],
      "metadata":{
        
      }
    },
    {
      "cell_type":"markdown",
      "source":[
        "### Преобразовываем независимые и целевую переменные"
      ],
      "metadata":{
        
      }
    },
    {
      "cell_type":"code",
      "source":[
        "D_train = xgb.DMatrix(X_train, label=y_train)\n",
        "D_test = xgb.DMatrix(X_test, label=y_test)"
      ],
      "execution_count":26,
      "outputs":[
        
      ],
      "metadata":{
        
      }
    },
    {
      "cell_type":"markdown",
      "source":[
        "### Настраиваем дефолтные параметры"
      ],
      "metadata":{
        
      }
    },
    {
      "cell_type":"code",
      "source":[
        "param = {\n",
        "    'eta': 0.3, \n",
        "    'max_depth': 3,  \n",
        "    'objective': 'multi:softprob',  \n",
        "    'num_class': 3} \n",
        "\n",
        "steps = 20  # The number of training iterations"
      ],
      "execution_count":27,
      "outputs":[
        
      ],
      "metadata":{
        
      }
    },
    {
      "cell_type":"markdown",
      "source":[
        "### Обучаем модель XGBoost Classifier"
      ],
      "metadata":{
        
      }
    },
    {
      "cell_type":"code",
      "source":[
        "xgb_model = xgb.train(param, D_train, steps)"
      ],
      "execution_count":28,
      "outputs":[
        
      ],
      "metadata":{
        
      }
    },
    {
      "cell_type":"markdown",
      "source":[
        "### Предсказываем целевую переменную"
      ],
      "metadata":{
        
      }
    },
    {
      "cell_type":"code",
      "source":[
        "preds = xgb_model.predict(D_test)\n",
        "best_preds = np.asarray([np.argmax(line) for line in preds])\n",
        "print(\"Accuracy = {}\".format(accuracy_score(y_test, best_preds)))"
      ],
      "execution_count":29,
      "outputs":[
        {
          "name":"stdout",
          "text":[
            "Accuracy = 0.7389380530973452\n"
          ],
          "output_type":"stream"
        }
      ],
      "metadata":{
        
      }
    },
    {
      "cell_type":"code",
      "source":[
        "# Мы пытались\n",
        "# plt.figure(figsize=(10,7))\n",
        "# cmd_xgb = confusion_matrix(D_train, D_test)\n",
        "# sns.heatmap(cmd_xgb, annot=True, fmt='d')\n",
        "# plt.xlabel('Predicted')\n",
        "# plt.ylabel('Truth')\n",
        "# print('Accuracy XGBClassifier: ', cmd_xgb.score(D_train, y_test))"
      ],
      "execution_count":30,
      "outputs":[
        
      ],
      "metadata":{
        
      }
    },
    {
      "cell_type":"markdown",
      "source":[
        "# Всем спасибо, все идем спать!"
      ],
      "metadata":{
        
      }
    }
  ],
  "metadata":{
    
  },
  "nbformat":4,
  "nbformat_minor":0
}